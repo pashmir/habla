{
 "cells": [
  {
   "cell_type": "markdown",
   "metadata": {},
   "source": [
    "# Práctica 2\n",
    "## Navegación\n",
    "- [Ejercicio 1](#Ejercicio-1)\n",
    "- [Ejercicio 2](#Ejercicio-2)\n",
    "- [Ejercicio 4](#Ejercicio-4)\n",
    "- [Ejercicio 9](#Ejercicio-9)\n",
    "  - [Punto A](#a%29-Fonema-/a/)\n",
    "  - [Punto B](#b%29-Idem-pero-variando-el-pitch-entre-100-y-150-Hz)\n",
    "  - [Punto D](#d%29-Idem-pero-extrayendo-el-pitch-de-un-sonido-real)\n",
    "  - [Punto F](#f%29-Extrayendo-el-pitch-y-los-formantes-de-s0-y-s25-genere-nuevos-sonidos)\n",
    "  - [Punto G](#g%29-Sintetice-sonidos-siguiendo-los-siguientes-pasos)\n",
    "\n",
    "## Ejercicio 1\n",
    "Analizar s0 y s25, medir Fo y ver en que se diferencian.\n",
    "\n",
    "Para realizar las observaciones se utilizo una ventana de largo temporal de 0.033 s.\n",
    "\n",
    "![imagens0](HAB2-s0.png)\n",
    "\n",
    "A ojo, diría que la frecuencia glótica promedio sería de 120 Hz. Utilizando el programa dio:\n",
    ">140.67696995168077 Hz (mean pitch in SELECTION)\n",
    "\n",
    "![imagens25](HAB2-s25.png)\n",
    "\n",
    "A ojo, en promedio 180 Hz. Utilizando el programa:\n",
    ">188.35546888480226 Hz (mean pitch in SELECTION)\n",
    "\n",
    "En S0 se escucha la voz de un hombre por lo que la frecuencia fundamental es, en promedio, más baja que en S25 donde habla una mujer.\n",
    "\n",
    "En la siguiente figura se muestra la variación del pitch en la grabación.\n",
    "![imagens0a](HAB2-s0a.png)\n",
    "\n",
    "## Ejercicio 2\n",
    "Recupere de la señal s1 la frecuencia de los formantes de cada vocal\n",
    "\n",
    "Para esto se utilizo una ventana temporal mas pequeña, de alrededor de 0.0077 s.\n",
    "![imagens1](HAB2-s1.png)\n",
    "\n",
    "I: (460 Hz, 2700 Hz, 4000 Hz)\n",
    "\n",
    "E: (480 Hz, 2450 Hz, 3850 Hz)\n",
    "\n",
    "A: (220 Hz, 1250 Hz, 2500 Hz)\n",
    "\n",
    "O: (700 Hz, 2550 Hz, 3700 Hz)\n",
    "\n",
    "U: (600 Hz, 2500 Hz, 3650 Hz)\n",
    "\n",
    "Ahora ver en el archivo de diptongos (s21.wav) si podemos identificar las vocales\n",
    "\n",
    "Palabra 1:\n",
    "\n",
    "![imagen21a](HAB2-s21a.png)\n",
    "\n",
    "primera vocal: (240, 2400, 3100) ~ A en realidad era una I\n",
    "\n",
    "segunda vocal: (700, 2300, 3600) ~ O en realidad era una U\n",
    "\n",
    "(T_T)\n",
    "\n",
    "Palabra 4:\n",
    "\n",
    "![imagen21d](HAB2-s21d.png)\n",
    "\n",
    "primera vocal: (300, 2430, 3180) ~ A por lo que anoté pero apuesto a que es una I\n",
    "\n",
    "segunda vocal: (450, 2100, 2690) ~ E por experiencia previa\n",
    "\n",
    "Rta:  I E\n",
    "\n",
    "Gané :)\n",
    "\n",
    "## Ejercicio 4\n",
    "\n",
    "## Ejercicio 9\n",
    "\n",
    "Sintesis de formantes\n",
    "\n",
    "### a) Fonema /a/"
   ]
  },
  {
   "cell_type": "code",
   "execution_count": 1,
   "metadata": {},
   "outputs": [
    {
     "data": {
      "text/html": [
       "<audio src=\"E9a-A.wav\" preload=\"none\" controls></audio>"
      ],
      "text/plain": [
       "<IPython.core.display.HTML object>"
      ]
     },
     "metadata": {},
     "output_type": "display_data"
    }
   ],
   "source": [
    "%%HTML\n",
    "<audio src=\"E9a-A.wav\" preload=\"none\" controls></audio>"
   ]
  },
  {
   "cell_type": "markdown",
   "metadata": {},
   "source": [
    "### b) Idem pero variando el pitch entre 100 y 150 Hz"
   ]
  },
  {
   "cell_type": "code",
   "execution_count": 3,
   "metadata": {},
   "outputs": [
    {
     "data": {
      "text/html": [
       "<audio src=\"E9b-A.wav\" preload=\"none\" controls></audio>"
      ],
      "text/plain": [
       "<IPython.core.display.HTML object>"
      ]
     },
     "metadata": {},
     "output_type": "display_data"
    }
   ],
   "source": [
    "%%HTML\n",
    "<audio src=\"E9b-A.wav\" preload=\"none\" controls></audio>"
   ]
  },
  {
   "cell_type": "markdown",
   "metadata": {},
   "source": [
    "### d) Idem pero extrayendo el pitch de un sonido real"
   ]
  },
  {
   "cell_type": "code",
   "execution_count": 7,
   "metadata": {},
   "outputs": [
    {
     "data": {
      "text/html": [
       "<audio src=\"E9d-A.wav\" preload=\"none\" controls></audio>"
      ],
      "text/plain": [
       "<IPython.core.display.HTML object>"
      ]
     },
     "metadata": {},
     "output_type": "display_data"
    }
   ],
   "source": [
    "%%HTML\n",
    "<audio src=\"E9d-A.wav\" preload=\"none\" controls></audio>"
   ]
  },
  {
   "cell_type": "markdown",
   "metadata": {},
   "source": [
    "### f) Extrayendo el pitch y los formantes de s0 y s25 genere nuevos sonidos\n",
    "pitch s0 + formantes s0"
   ]
  },
  {
   "cell_type": "code",
   "execution_count": 8,
   "metadata": {},
   "outputs": [
    {
     "data": {
      "text/html": [
       "<audio src=\"E9f-s0s0.wav\" preload=\"none\" controls></audio>"
      ],
      "text/plain": [
       "<IPython.core.display.HTML object>"
      ]
     },
     "metadata": {},
     "output_type": "display_data"
    }
   ],
   "source": [
    "%%HTML\n",
    "<audio src=\"E9f-s0s0.wav\" preload=\"none\" controls></audio>"
   ]
  },
  {
   "cell_type": "markdown",
   "metadata": {},
   "source": [
    "pitch s25 + formantes s0"
   ]
  },
  {
   "cell_type": "code",
   "execution_count": 10,
   "metadata": {},
   "outputs": [
    {
     "data": {
      "text/html": [
       "<audio src=\"E9f-s25s0.wav\" preload=\"none\" controls></audio>"
      ],
      "text/plain": [
       "<IPython.core.display.HTML object>"
      ]
     },
     "metadata": {},
     "output_type": "display_data"
    }
   ],
   "source": [
    "%%HTML\n",
    "<audio src=\"E9f-s25s0.wav\" preload=\"none\" controls></audio>"
   ]
  },
  {
   "cell_type": "markdown",
   "metadata": {},
   "source": [
    "pitch s25 + formantes s25"
   ]
  },
  {
   "cell_type": "code",
   "execution_count": 11,
   "metadata": {},
   "outputs": [
    {
     "data": {
      "text/html": [
       "<audio src=\"E9f-s25s25.wav\" preload=\"none\" controls></audio>"
      ],
      "text/plain": [
       "<IPython.core.display.HTML object>"
      ]
     },
     "metadata": {},
     "output_type": "display_data"
    }
   ],
   "source": [
    "%%HTML\n",
    "<audio src=\"E9f-s25s25.wav\" preload=\"none\" controls></audio>"
   ]
  },
  {
   "cell_type": "markdown",
   "metadata": {},
   "source": [
    "pitch s0 + formantes s25"
   ]
  },
  {
   "cell_type": "code",
   "execution_count": 13,
   "metadata": {},
   "outputs": [
    {
     "data": {
      "text/html": [
       "<audio src=\"E9f-s0s25.wav\" preload=\"none\" controls></audio>"
      ],
      "text/plain": [
       "<IPython.core.display.HTML object>"
      ]
     },
     "metadata": {},
     "output_type": "display_data"
    }
   ],
   "source": [
    "%%HTML\n",
    "<audio src=\"E9f-s0s25.wav\" preload=\"none\" controls></audio>"
   ]
  },
  {
   "cell_type": "markdown",
   "metadata": {},
   "source": [
    "El pitch tiene la entonación de lo que se quiere decir, mientras que en los formantes estan los fonemas que quiero decir\n",
    "### g) Sintetice sonidos siguiendo los siguientes pasos"
   ]
  }
 ],
 "metadata": {
  "kernelspec": {
   "display_name": "Python 3",
   "language": "python",
   "name": "python3"
  },
  "language_info": {
   "codemirror_mode": {
    "name": "ipython",
    "version": 3
   },
   "file_extension": ".py",
   "mimetype": "text/x-python",
   "name": "python",
   "nbconvert_exporter": "python",
   "pygments_lexer": "ipython3",
   "version": "3.6.5"
  }
 },
 "nbformat": 4,
 "nbformat_minor": 2
}
