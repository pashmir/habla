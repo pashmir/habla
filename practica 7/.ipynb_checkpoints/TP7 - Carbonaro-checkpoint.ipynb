{
 "cells": [
  {
   "cell_type": "markdown",
   "metadata": {},
   "source": [
    "# Práctica 7"
   ]
  },
  {
   "cell_type": "markdown",
   "metadata": {
    "toc": true
   },
   "source": [
    "<h1>Table of Contents<span class=\"tocSkip\"></span></h1>\n",
    "<div class=\"toc\"><ul class=\"toc-item\"><li><span><a href=\"#Descripción-de-un-modelo-de-Markov-con-gaussianas\" data-toc-modified-id=\"Descripción-de-un-modelo-de-Markov-con-gaussianas-1\"><span class=\"toc-item-num\">1&nbsp;&nbsp;</span>Descripción de un modelo de Markov con gaussianas</a></span><ul class=\"toc-item\"><li><span><a href=\"#Probabilidad-de-cada-conjunto\" data-toc-modified-id=\"Probabilidad-de-cada-conjunto-1.1\"><span class=\"toc-item-num\">1.1&nbsp;&nbsp;</span>Probabilidad de cada conjunto</a></span></li></ul></li><li><span><a href=\"#Recursión-alfa\" data-toc-modified-id=\"Recursión-alfa-2\"><span class=\"toc-item-num\">2&nbsp;&nbsp;</span>Recursión alfa</a></span></li><li><span><a href=\"#Recursión-beta\" data-toc-modified-id=\"Recursión-beta-3\"><span class=\"toc-item-num\">3&nbsp;&nbsp;</span>Recursión beta</a></span><ul class=\"toc-item\"><li><span><a href=\"#Recursión-gamma\" data-toc-modified-id=\"Recursión-gamma-3.1\"><span class=\"toc-item-num\">3.1&nbsp;&nbsp;</span>Recursión gamma</a></span></li><li><span><a href=\"#Recursión-psi\" data-toc-modified-id=\"Recursión-psi-3.2\"><span class=\"toc-item-num\">3.2&nbsp;&nbsp;</span>Recursión psi</a></span></li></ul></li><li><span><a href=\"#Estimando-estados-en-base-a-EM\" data-toc-modified-id=\"Estimando-estados-en-base-a-EM-4\"><span class=\"toc-item-num\">4&nbsp;&nbsp;</span>Estimando estados en base a EM</a></span></li></ul></div>"
   ]
  },
  {
   "cell_type": "code",
   "execution_count": 1,
   "metadata": {},
   "outputs": [],
   "source": [
    "%matplotlib inline\n",
    "from scipy import io\n",
    "from scipy import stats as sd\n",
    "import numpy as np\n",
    "from numpy import linalg\n",
    "import matplotlib.pyplot as plt\n",
    "from matplotlib import rcParams\n",
    "rcParams['figure.figsize'] = (8.0, 4.0)\n",
    "from time import sleep\n",
    "from scipy.linalg import sqrtm\n",
    "from matplotlib import colors as mcolors\n",
    "\n",
    "# Specification of some HMMs for classification\n",
    "\n",
    "class hmm:\n",
    "    \n",
    "    def __init__(self,means,vrs,trans):\n",
    "        self.means = means\n",
    "        self.vrs = vrs\n",
    "        self.trans = trans\n",
    "        \n",
    "        self.dim = means.shape[1]\n",
    "        self.numStates = means.shape[0] + 2\n",
    "        self.devs = np.array([sqrtm(M) for M in vrs])\n",
    "     \n",
    "    \n",
    "def genhmm(hmm):\n",
    "\n",
    "    stateSeq = [0]\n",
    "    while stateSeq[-1] != hmm.numStates-1:\n",
    "        stateSeq.append(int(np.random.choice(hmm.numStates, 1, p=hmm.trans[stateSeq[-1],:])))\n",
    "\n",
    "    stateSeq = np.array(stateSeq)\n",
    "    x=np.zeros(((len(stateSeq))-2,hmm.dim))\n",
    "    for i in range(1,len(stateSeq)-1):\n",
    "        x[i-1,:] = np.random.multivariate_normal(hmm.means[stateSeq[i]-1],hmm.vrs[stateSeq[i]-1])\n",
    "    \n",
    "    return x, stateSeq\n",
    "\n",
    "\n",
    "def plotseq(hmm, stateSeq, x):\n",
    "    fig = plt.figure()\n",
    "    ax1 = fig.add_subplot(2,1,1)\n",
    "    ax2 = fig.add_subplot(2,1,2)\n",
    "    classes_names = np.array(['Fonema '+str(i+1) for i in range(hmm.numStates-2)],dtype=object)\n",
    "    colors = list(dict(mcolors.BASE_COLORS, **mcolors.CSS4_COLORS).values())\n",
    "\n",
    "    ax1.plot(x[:,0])\n",
    "    ax2.plot(x[:,1])\n",
    "\n",
    "    s = stateSeq[1:-1]-1\n",
    "    for i in range(hmm.numStates-2):\n",
    "        mask = s==i\n",
    "        ax1.scatter(np.arange(s.size)[mask],x[mask,0],color=colors[i],label=classes_names[i])\n",
    "        ax2.scatter(np.arange(s.size)[mask],x[mask,1],color=colors[i],label=classes_names[i])\n",
    "\n",
    "    ax1.legend()\n",
    "    \n",
    "    return ax1, ax2\n",
    "    \n",
    "    \n",
    "def plotseq2(hmm,stateSeq,x,gauss=False):\n",
    "    \n",
    "    fig = plt.figure()\n",
    "    ax = fig.add_subplot(1,1,1)\n",
    "\n",
    "    classes_names = np.array(['Fonema '+str(i+1) for i in range(hmm.numStates-2)],dtype=object)\n",
    "    colors = list(dict(mcolors.BASE_COLORS, **mcolors.CSS4_COLORS).values())\n",
    "\n",
    "    ax.plot(x[:,0],x[:,1])\n",
    "    \n",
    "    for i in range(x.shape[0]):\n",
    "        ax.annotate(str(i+1),(x[i,0],x[i,1]))\n",
    "    \n",
    "\n",
    "    s = stateSeq[1:-1]-1\n",
    "    for i in range(hmm.numStates-2):\n",
    "        mask = s==i\n",
    "        ax.scatter(x[mask,0],x[mask,1],color=colors[i],label=classes_names[i])\n",
    "        if gauss:\n",
    "            mean = x[mask,:].mean(axis=0)\n",
    "            cov = np.cov(x[mask,:].T)\n",
    "            covariance_ellipse(mean,cov,ax=ax,color=colors[i])\n",
    "        \n",
    "    ax.legend()\n",
    "    \n",
    "    return ax\n",
    "    \n",
    "    \n",
    "def covariance_ellipse(mu, sigma, ax=None, color=\"k\"):\n",
    "    \n",
    "    # Cálculo de los autovalores:\n",
    "    vals, vecs = np.linalg.eigh(sigma)\n",
    "    \n",
    "    # Inclinación de la elipse:\n",
    "    x, y = vecs[:, 0]\n",
    "    theta = np.degrees(np.arctan2(y, x))\n",
    "\n",
    "    # Semiejes de la elipse:\n",
    "    w, h = 2 * np.sqrt(vals)\n",
    "\n",
    "    if ax is None:\n",
    "        fig = plt.figure()\n",
    "        ax = fig.add_subplot(1,1,1)\n",
    "                \n",
    "    ax.tick_params(axis='both', which='major', labelsize=20)\n",
    "    ellipse = Ellipse(mu, w, h, theta, color=color)\n",
    "    ellipse.set_clip_box(ax.bbox)\n",
    "    ellipse.set_alpha(0.2)\n",
    "    ax.add_artist(ellipse)\n",
    "    \n",
    "    return ax\n",
    "\n",
    "# funcion que calcula suma de logaritmos\n",
    "def logsum(logv):\n",
    "    leng = len(logv);\n",
    "    if (leng<2):\n",
    "        error('Subroutine logsum cannot sum less than 2 terms.')\n",
    "\n",
    "\n",
    "    # First two terms\n",
    "    if (logv[1]<logv[0]):\n",
    "        result = logv[0] + np.log( 1 + np.exp( logv[1]-logv[0] ) )\n",
    "    else:\n",
    "        result = logv[1] + np.log( 1 + np.exp( logv[0]-logv[1] ) )\n",
    "\n",
    "\n",
    "    # Remaining terms\n",
    "    for i in range(2,leng):\n",
    "        term = logv[i]\n",
    "        if result < term:\n",
    "            result = term   + np.log( 1 + np.exp( result-term ) )\n",
    "        else:\n",
    "            result = result + np.log( 1 + np.exp( term-result ) )\n",
    "            \n",
    "    return result\n",
    "\n",
    "\n",
    "\n",
    "def logfwd(*args,**kwargs):\n",
    "    \"\"\"LOGFWD Log version of the forward procedure\n",
    "\n",
    "    LOGPROB = LOGFWD(X,MEANS,VARS,TRANSITIONS) returns the likelihood of\n",
    "    the 2-dimensional sequence X (one observation per row) with respect to\n",
    "    a Markov model with N states having means MEANS and variances VARS\n",
    "    (stored in N elements lists with empty matrices as first and last\n",
    "    elements to symbolize the entry and exit states) and transition matrix\n",
    "    TRANSITIONS.\n",
    "      Alternately, LOGFWD(X,HMM) can be used, where HMM is an object of the\n",
    "    form:\n",
    "       HMM.means = MEANS;\n",
    "       HMM.vars = VARS;\n",
    "       HMM.trans = TRANSITIONS\"\"\"\n",
    "    if len(args)==2:\n",
    "        x=args[0]\n",
    "        means=args[1].means\n",
    "        vrs=args[1].vrs\n",
    "        trans=args[1].trans\n",
    "    else:\n",
    "        x=args[0]\n",
    "        means=args[1]\n",
    "        vrs=args[2]\n",
    "        trans=args[3]\n",
    "    \n",
    "    trans[trans<1e-100]=1e-100\n",
    "    logtrans=np.log(trans)\n",
    "    \n",
    "    numstates=len(means)\n",
    "    I=np.arange(1,numstates+1)\n",
    "    [numpts,dim]=np.shape(x)\n",
    "    \n",
    "    invsigs=np.zeros((dim,dim))\n",
    "    logdetvars2=0\n",
    "    log2pi=np.log(2*np.pi)\n",
    "    for i in I-1:\n",
    "        invsig=np.linalg.inv(vrs[i])\n",
    "        invsigs=np.dstack((invsigs,invsig))\n",
    "        logdet= - 0.5 * np.log(np.linalg.det(vrs[i])) - log2pi\n",
    "        logdetvars2 = np.hstack((logdetvars2,logdet))\n",
    "        \n",
    "    # Initialize the alpha vector for the emitting states\n",
    "    alpha_t=0\n",
    "    for i in I:\n",
    "        X=x[0,:]-means[i-1].T\n",
    "        alph=logtrans[0,i] - .5 * (np.dot(np.dot(X,invsigs[:,:,i]),X.T) )+ logdetvars2[i]\n",
    "        alpha_t=np.hstack((alpha_t,alph))\n",
    "    alpha=alpha_t\n",
    "    \n",
    "    # Do the forward recursion\n",
    "    for t in range(1, numpts):\n",
    "        alphabefore=np.copy(alpha_t)\n",
    "        alpha_t=0\n",
    "        for i in I:\n",
    "            X=x[t,:]-means[i-1].T\n",
    "            alph=logsum(alphabefore[I] + logtrans[I,i]) - .5 * (np.dot(np.dot(X,invsigs[:,:,i]),X.T)) + logdetvars2[i]\n",
    "            alpha_t=np.hstack((alpha_t,alph))\n",
    "        alpha=np.hstack((alpha,alpha_t))\n",
    "        \n",
    "    logprob =  logsum( alpha_t[I] + logtrans[I,numstates+1] )\n",
    "    alpha = alpha.reshape(numpts, numstates+1)\n",
    "    return logprob, alpha"
   ]
  },
  {
   "cell_type": "markdown",
   "metadata": {},
   "source": [
    "## Descripción de un modelo de Markov con gaussianas"
   ]
  },
  {
   "cell_type": "code",
   "execution_count": 2,
   "metadata": {},
   "outputs": [],
   "source": [
    "# Carga de datos\n",
    "\n",
    "# GENDATA Generation of simulation data for HMM lab\n",
    "\n",
    "# Specification of simulated vowels statistics\n",
    "Pa = 0.25\n",
    "mu_a = np.array([730., 1090.])\n",
    "std_a = np.array([[35.,  20.],\n",
    "                  [20.,  230.]])\n",
    "var_a = std_a.dot(std_a)\n",
    "\n",
    "Pe = 0.3\n",
    "mu_e = np.array([530., 1840.])\n",
    "std_e = np.array([[120.,  25.],\n",
    "                  [25.,  190.]])\n",
    "var_e = std_e.dot(std_e)\n",
    "\n",
    "Pi = 0.25\n",
    "mu_i = np.array([270., 2290.])\n",
    "std_i = np.array([[50.,  5.],\n",
    "                  [5.,  190.]])\n",
    "var_i = std_i.dot(std_i)\n",
    "\n",
    "Po = 0.15\n",
    "mu_o = np.array([570., 840.])\n",
    "std_o = np.array([[40.,  20.],\n",
    "                  [20.,  140.]])\n",
    "var_o = std_o.dot(std_o)\n",
    "\n",
    "Py = 0.05\n",
    "mu_y = np.array([440., 1020.])\n",
    "std_y = np.array([[80.,  40.],\n",
    "                  [40.,  130.]])\n",
    "var_y = std_y.dot(std_y)\n",
    "\n",
    "        \n",
    "# 1: ergodic /aiy/, \"unstable\"\n",
    "means = np.stack((mu_a,mu_i,mu_y))\n",
    "vrs = np.stack((var_a,var_i,var_y))\n",
    "trans = np.array([[0.0, 1.0, 0.0, 0.0, 0.0],\n",
    "                  [0.0, 0.4, 0.3, 0.3, 0.0],\n",
    "                  [0.0, 0.3, 0.4, 0.3, 0.0],\n",
    "                  [0.0, 0.3, 0.3, 0.3, 0.1],\n",
    "                  [0.0, 0.0, 0.0, 0.0, 1.0]])\n",
    "\n",
    "hmm1 = hmm(means, vrs, trans)\n",
    "\n",
    "# 2: ergodic /aiy/, \"stable\"\n",
    "means = np.stack((mu_a,mu_i,mu_y))\n",
    "vrs = np.stack((var_a,var_i,var_y))\n",
    "trans = np.array([[0.0, 1.0, 0.0, 0.0, 0.0],\n",
    "                  [0.0, 0.95, 0.025, 0.025, 0.0],\n",
    "                  [0.0, 0.025, 0.95, 0.025, 0.0],\n",
    "                  [0.0, 0.02, 0.02, 0.95, 0.01],\n",
    "                  [0.0, 0.0, 0.0, 0.0, 1.0]])\n",
    "\n",
    "hmm2 = hmm(means, vrs, trans)\n",
    "\n",
    "# 3: left-right /aiy/, unstable\n",
    "means = np.stack((mu_a,mu_i,mu_y))\n",
    "vrs = np.stack((var_a,var_i,var_y))\n",
    "trans = np.array([[0.0, 1.0, 0.0, 0.0, 0.0],\n",
    "                  [0.0, 0.5, 0.5, 0.0, 0.0],\n",
    "                  [0.0, 0.0, 0.5, 0.5, 0.0],\n",
    "                  [0.0, 0.0, 0.0, 0.5, 0.5],\n",
    "                  [0.0, 0.0, 0.0, 0.0, 1.0]])\n",
    "\n",
    "hmm3 = hmm(means, vrs, trans)\n",
    "\n",
    "# 4: left-right /aiy/, stable\n",
    "means = np.stack((mu_a,mu_i,mu_y))\n",
    "vrs = np.stack((var_a,var_i,var_y))\n",
    "trans = np.array([[0.0, 1.0, 0.0, 0.0, 0.0],\n",
    "                  [0.0, 0.95, 0.05, 0.0, 0.0],\n",
    "                  [0.0, 0.0, 0.95, 0.05, 0.0],\n",
    "                  [0.0, 0.0, 0.0, 0.95, 0.05],\n",
    "                  [0.0, 0.0, 0.0, 0.0, 1.0]])\n",
    "\n",
    "hmm4 = hmm(means, vrs, trans)\n",
    "\n",
    "# 5: left-right /yia/, stable\n",
    "means = np.stack((mu_y,mu_i,mu_a))\n",
    "vrs  = np.stack((var_y,var_i,var_a))\n",
    "trans = np.array([[0.0, 1.0, 0.0, 0.0, 0.0],\n",
    "                  [0.0, 0.95, 0.05, 0.0, 0.0],\n",
    "                  [0.0, 0.0, 0.95, 0.05, 0.0],\n",
    "                  [0.0, 0.0, 0.0, 0.95, 0.05],\n",
    "                  [0.0, 0.0, 0.0, 0.0, 1.0]])\n",
    "\n",
    "hmm5 = hmm(means, vrs, trans)\n",
    "\n",
    "# 6: left-right /aie/, stable\n",
    "means = np.stack((mu_a,mu_i,mu_e))\n",
    "vrs  = np.stack((var_a,var_i,var_e))\n",
    "trans = np.array([[0.0, 1.0,  0.0,  0.0,  0.0],\n",
    "                  [0.0, 0.95, 0.05, 0.0,  0.0],\n",
    "                  [0.0, 0.0,  0.95, 0.05, 0.0],\n",
    "                  [0.0, 0.0,  0.0,  0.95, 0.05],\n",
    "                  [0.0, 0.0,  0.0,  0.0,  1.0]]);\n",
    "\n",
    "hmm6 = hmm(means, vrs, trans)\n",
    "\n",
    "# 7: left-right /aiy/, stable w/ unequal stay probas\n",
    "means = np.stack((mu_a,mu_i,mu_y))\n",
    "vrs  = np.stack((var_a,var_i,var_y))\n",
    "trans = np.array([[0.0, 1.0,  0.0,  0.0,  0.0],\n",
    "                  [0.0, 0.7,  0.3,  0.0,  0.0],\n",
    "                  [0.0, 0.0,  0.95, 0.05, 0.0],\n",
    "                  [0.0, 0.0,  0.0,  0.7,  0.3],\n",
    "                  [0.0, 0.0,  0.0,  0.0,  1.0]])\n",
    "\n",
    "hmm7 = hmm(means, vrs, trans)\n",
    "\n",
    "\n",
    "\n",
    "from scipy.io import loadmat\n",
    "x = loadmat('data.mat')\n",
    "X1, X2, X3, X4, X5, X6 = x['X1'], x['X2'], x['X3'], x['X4'], x['X5'], x['X6']\n",
    "ST1, ST2, ST3, ST4, ST5, ST6 = x['ST1'].astype(np.int)[0]-1, x['ST2'].astype(np.int)[0]-1, x['ST3'].astype(np.int)[0]-1, x['ST4'].astype(np.int)[0]-1, x['ST5'].astype(np.int)[0]-1, x['ST6'].astype(np.int)[0]-1"
   ]
  },
  {
   "cell_type": "code",
   "execution_count": 3,
   "metadata": {},
   "outputs": [
    {
     "data": {
      "text/plain": [
       "(<matplotlib.axes._subplots.AxesSubplot at 0xb474c06c>,\n",
       " <matplotlib.axes._subplots.AxesSubplot at 0xb47490ec>)"
      ]
     },
     "execution_count": 3,
     "metadata": {},
     "output_type": "execute_result"
    },
    {
     "data": {
      "image/png": "[encoded data removed]",
      "text/plain": [
       "<Figure size 432x288 with 2 Axes>"
      ]
     },
     "metadata": {},
     "output_type": "display_data"
    }
   ],
   "source": [
    "plotseq(hmm1, ST1,X1)"
   ]
  },
  {
   "cell_type": "markdown",
   "metadata": {},
   "source": [
    "### Probabilidad de cada conjunto"
   ]
  },
  {
   "cell_type": "code",
   "execution_count": 4,
   "metadata": {},
   "outputs": [
    {
     "name": "stdout",
     "output_type": "stream",
     "text": [
      "-1176.9774275779412 2 \n",
      "\n"
     ]
    }
   ],
   "source": [
    "# aca tenes que hacer un ciclo calculando la probabilidad de las observaciones y sus estados\n",
    "# y ver como cambia si se usa un hmm incorrecto\n",
    "# hay que tenerlo hecho para el lunes\n",
    "# tengo que hacer la productoria de P(yt|qt)*P(qt|qt-1)\n",
    "# si uso logaritmos es todo una suma\n",
    "# P(yt|qt) es una normal\n",
    "# P(qt|qt-1) esta determinada por la matriz de transicion\n",
    "def prob_conjunta(muestras,estados,modelo):\n",
    "    means=modelo.means\n",
    "    vrs=modelo.vrs\n",
    "    logtrans=np.copy(modelo.trans)\n",
    "    logtrans[logtrans<1e-100]=1e-100\n",
    "    num_obs= len(muestras)\n",
    "    prob_conj=0\n",
    "    for t in range(2,num_obs):\n",
    "        logprob_yq = sd.multivariate_normal.logpdf(muestras[t],means[int(estados[t+1])-1],vrs[int(estados[t+1])-1])\n",
    "        logprob_qq = logtrans[int(estados[t]),int(estados[t+1])]\n",
    "        prob_conj=prob_conj+logprob_yq+logprob_qq\n",
    "    return prob_conj\n",
    "\n",
    "i=1\n",
    "maximo=-1e100\n",
    "imax=0\n",
    "for hmm in (hmm1,hmm2,hmm3,hmm4,hmm5,hmm6):\n",
    "    P=prob_conjunta(X6,ST6,hmm)\n",
    "    if maximo<P:\n",
    "        maximo=np.copy(P)\n",
    "        imax=np.copy(i)\n",
    "    i+=1\n",
    "print(maximo,imax,'\\n')\n",
    "\n",
    "# de correr esto, el modelo 1 es el que caracteriza al conjunto de muestras y estados 1\n",
    "# el modelo 4 es el que caracteriza el conjunto 2\n",
    "# el modelo 5 es el que caracteriza el conjunto 3\n",
    "# el modelo 4 es el que caracteriza el conjunto 4\n",
    "# el modelo 6 es el que caracteriza el conjunto 5\n",
    "# el modelo 2 es el que caracteriza el conjunto 6"
   ]
  },
  {
   "cell_type": "markdown",
   "metadata": {},
   "source": [
    "## Recursión alfa"
   ]
  },
  {
   "cell_type": "code",
   "execution_count": 5,
   "metadata": {},
   "outputs": [
    {
     "data": {
      "text/plain": [
       "<matplotlib.legend.Legend at 0xaa2456ac>"
      ]
     },
     "execution_count": 5,
     "metadata": {},
     "output_type": "execute_result"
    },
    {
     "data": {
      "image/png": "[encoded data removed]",
      "text/plain": [
       "<Figure size 432x288 with 1 Axes>"
      ]
     },
     "metadata": {},
     "output_type": "display_data"
    }
   ],
   "source": [
    "# tambien hay que calcular la recursion alfa y beta para cada T\n",
    "\n",
    "\n",
    "# Para calcular los terminos de la recursión alfa se modifico la función logfwd para que devuelva,\n",
    "# ademas de la probabilidad de la observación, los alfa en cada instante T.\n",
    "prob_obs,alpha=logfwd(X1,hmm1)\n",
    "fig,ax=plt.subplots()\n",
    "ax.plot(alpha[:,1])\n",
    "ax.plot(alpha[:,2])\n",
    "ax.plot(alpha[:,3])\n",
    "ax.legend(('alpha_t(1)','alpha_t(2)','alpha_t(3)'))"
   ]
  },
  {
   "cell_type": "markdown",
   "metadata": {},
   "source": [
    "## Recursión beta"
   ]
  },
  {
   "cell_type": "code",
   "execution_count": 6,
   "metadata": {},
   "outputs": [
    {
     "data": {
      "text/plain": [
       "<matplotlib.legend.Legend at 0xaa19beec>"
      ]
     },
     "execution_count": 6,
     "metadata": {},
     "output_type": "execute_result"
    },
    {
     "data": {
      "image/png": "[encoded data removed]",
      "text/plain": [
       "<Figure size 432x288 with 1 Axes>"
      ]
     },
     "metadata": {},
     "output_type": "display_data"
    }
   ],
   "source": [
    "# Para calcular la recursión beta voy a tener que definir una nueva función\n",
    "def logbeta(*args,**kwargs):\n",
    "    \"\"\"Calcula los beta para un dado modelo de cadenas de markov ocultas.\n",
    "    Toma x y un hmm o x, medias, varianzas y transiciones.\"\"\"\n",
    "    if len(args)==2:\n",
    "        x=args[0]\n",
    "        means=args[1].means\n",
    "        vrs=args[1].vrs\n",
    "        trans=args[1].trans\n",
    "    else:\n",
    "        x=args[0]\n",
    "        means=args[1]\n",
    "        vrs=args[2]\n",
    "        trans=args[3]\n",
    "    \n",
    "    trans[trans<1e-100]=1e-100\n",
    "    logtrans=np.log(trans)\n",
    "    \n",
    "    numstates=len(means)\n",
    "    [numpts,dim]=np.shape(x)\n",
    "    \n",
    "    #beta inicial\n",
    "    beta=np.hstack((0,logtrans[1:-1,-1]))\n",
    "    \n",
    "    #betas siguientes\n",
    "    T=np.arange(0,numpts)\n",
    "    T=T[::-1]\n",
    "    I=np.arange(numstates)\n",
    "    beta_t=np.copy(beta)\n",
    "    bj=0\n",
    "    for i in I:\n",
    "        b=sd.multivariate_normal.logpdf(x[-1],means[i],vrs[i])\n",
    "        bj=np.hstack((bj,b))\n",
    "        \n",
    "    for t in T:\n",
    "        beta_before=np.copy(beta_t)\n",
    "        beta_t=0\n",
    "        bj_before=np.copy(bj)\n",
    "        bj=0\n",
    "        for i in I:\n",
    "            bet=logsum(beta_before[I+1]+logtrans[I+1,i+1]+bj_before[I+1])\n",
    "            b=sd.multivariate_normal.logpdf(x[t],means[i],vrs[i])\n",
    "            bj=np.hstack((bj,b))\n",
    "            beta_t=np.hstack((beta_t,bet))\n",
    "        beta=np.hstack((beta,beta_t))\n",
    "    beta=beta.reshape(numpts+1,numstates+1)\n",
    "    beta=beta[::-1,:]\n",
    "    return beta\n",
    "prob_obs,alpha=logfwd(X1,hmm1)\n",
    "beta=logbeta(X1,hmm1)\n",
    "fig,ax=plt.subplots()\n",
    "ax.plot(beta[:,1])\n",
    "ax.plot(beta[:,2])\n",
    "ax.plot(beta[:,3])\n",
    "ax.legend(('beta_t(1)','beta_t(2)','beta_t(3)'))\n"
   ]
  },
  {
   "cell_type": "code",
   "execution_count": 7,
   "metadata": {},
   "outputs": [
    {
     "data": {
      "text/plain": [
       "[<matplotlib.lines.Line2D at 0xaa15c86c>]"
      ]
     },
     "execution_count": 7,
     "metadata": {},
     "output_type": "execute_result"
    },
    {
     "data": {
      "image/png": "[encoded data removed]",
      "text/plain": [
       "<Figure size 432x288 with 1 Axes>"
      ]
     },
     "metadata": {},
     "output_type": "display_data"
    }
   ],
   "source": [
    "prob=0\n",
    "for i in range(len(alpha)):\n",
    "    prob=np.hstack((prob,logsum(alpha[i,1:]+beta[i+1,1:])))\n",
    "fig,ax=plt.subplots()\n",
    "ax.plot(prob[1:])"
   ]
  },
  {
   "cell_type": "code",
   "execution_count": 8,
   "metadata": {},
   "outputs": [
    {
     "name": "stdout",
     "output_type": "stream",
     "text": [
      "La probabilidad de la observación es  -559.3878877781691 \n",
      "Calculando con alpha y beta en  21 , me da -558.2633240140296\n"
     ]
    }
   ],
   "source": [
    "indice=np.random.choice(len(alpha))\n",
    "print('La probabilidad de la observación es ',prob_obs,\n",
    "      '\\nCalculando con alpha y beta en ',indice,', me da',logsum(alpha[indice,1:]+beta[indice+1,1:]))"
   ]
  },
  {
   "cell_type": "markdown",
   "metadata": {},
   "source": [
    "### Recursión gamma"
   ]
  },
  {
   "cell_type": "code",
   "execution_count": 9,
   "metadata": {},
   "outputs": [
    {
     "data": {
      "text/plain": [
       "0.0"
      ]
     },
     "execution_count": 9,
     "metadata": {},
     "output_type": "execute_result"
    },
    {
     "data": {
      "image/png": "[encoded data removed]",
      "text/plain": [
       "<Figure size 432x288 with 1 Axes>"
      ]
     },
     "metadata": {},
     "output_type": "display_data"
    }
   ],
   "source": [
    "def loggamma(alpha,beta):\n",
    "    prob=0\n",
    "    for i in range(len(alpha)):\n",
    "        prob=np.hstack((prob,logsum(alpha[i,1:]+beta[i+1,1:])))\n",
    "    gamma=alpha+beta[1:,:]-np.hstack((np.zeros((len(prob)-1,1)),prob[1:,np.newaxis]*np.ones((1,3))))\n",
    "    #print(np.shape(gamma))\n",
    "    #gamma=np.hstack((0,gamma))\n",
    "    return gamma\n",
    "\n",
    "gamma=loggamma(alpha,beta)\n",
    "\n",
    "fig,ax=plt.subplots()\n",
    "ax.plot(gamma[1:,3])\n",
    "\n",
    "logsum(gamma[27,1:])"
   ]
  },
  {
   "cell_type": "markdown",
   "metadata": {},
   "source": [
    "### Recursión psi"
   ]
  },
  {
   "cell_type": "code",
   "execution_count": 10,
   "metadata": {},
   "outputs": [
    {
     "name": "stdout",
     "output_type": "stream",
     "text": [
      "[[-1.74332290e+02 -1.48743608e+02 -1.18745800e+02]\n",
      " [-5.59361702e+01 -2.97721244e+01 -6.19976091e-02]\n",
      " [-1.07457899e+02 -8.15815357e+01 -5.15837268e+01]] [[0.4 0.3 0.3]\n",
      " [0.3 0.4 0.3]\n",
      " [0.3 0.3 0.3]] [0.52072738 0.91252288 0.14829124]\n"
     ]
    }
   ],
   "source": [
    "def logpsi(alpha,beta,hmm,x):\n",
    "    means=hmm.means\n",
    "    vrs=hmm.vrs\n",
    "    trans=hmm.trans\n",
    "    trans[trans<1e-100]=1e-100\n",
    "    logtrans=np.log(trans)\n",
    "    \n",
    "    prob=0\n",
    "    for t in range(len(alpha)):\n",
    "        prob=np.hstack((prob,logsum(alpha[t,1:]+beta[t+1,1:])))\n",
    "        \n",
    "    psi=np.zeros((3,3))\n",
    "    for t in np.arange(len(alpha)-1):\n",
    "        psi_t=np.zeros((3,3))\n",
    "        for i in range(3):\n",
    "            for j in range(3):\n",
    "                psi_t[i,j]=alpha[t,i+1]+beta[t+2,j+1]+logtrans[i+1,j+1]+sd.multivariate_normal.logpdf(x[t+1],means[j],vrs[j])\n",
    "        psi_t=psi_t-prob[t+1]\n",
    "        psi=np.dstack((psi,psi_t))\n",
    "    return psi\n",
    "\n",
    "psi=logpsi(alpha,beta,hmm1,X1)\n",
    "a11=logsum(psi[0,0,1:])-logsum(gamma[1:,1])\n",
    "a22=logsum(psi[1,1,1:])-logsum(gamma[1:,2])\n",
    "a33=logsum(psi[2,2,1:])-logsum(gamma[1:,3])\n",
    "print(psi[:,:,40],hmm1.trans[1:4,1:4],np.exp((a11,a22,a33)))"
   ]
  },
  {
   "cell_type": "markdown",
   "metadata": {},
   "source": [
    "## Estimando estados en base a EM"
   ]
  },
  {
   "cell_type": "code",
   "execution_count": 33,
   "metadata": {},
   "outputs": [],
   "source": [
    "np.random.seed(958151264)\n",
    "uno = 0\n",
    "dos = 0\n",
    "tres = 0\n",
    "while uno < 10 or dos < 10 or tres < 10:\n",
    "    X, stateSeq = genhmm(hmm6)\n",
    "    uno = (stateSeq==1).sum()\n",
    "    dos = (stateSeq==2).sum()\n",
    "    tres = (stateSeq==3).sum()\n",
    "\n",
    "np.savez('./X_ST.npz',x=X,y=stateSeq)"
   ]
  },
  {
   "cell_type": "code",
   "execution_count": 46,
   "metadata": {},
   "outputs": [
    {
     "name": "stdout",
     "output_type": "stream",
     "text": [
      "[[ 700 1000]\n",
      " [ 200 2000]\n",
      " [ 500 1500]]\n",
      "[[[  21126.95114255  138560.61035591]\n",
      "  [ 138560.61035591 1376058.5022136 ]]\n",
      "\n",
      " [[  21126.95114255  138560.61035591]\n",
      "  [ 138560.61035591 1376058.5022136 ]]\n",
      "\n",
      " [[  21126.95114255  138560.61035591]\n",
      "  [ 138560.61035591 1376058.5022136 ]]]\n",
      "[[ 747 1072]\n",
      " [ 675 1431]\n",
      " [ 490 1877]]\n",
      "[[[ 2.15656099e+03 -2.64107647e+01]\n",
      "  [-2.64107647e+01  3.29050605e-01]]\n",
      "\n",
      " [[ 4.64055851e+04 -1.41037968e+05]\n",
      "  [-1.41037968e+05  4.28650216e+05]]\n",
      "\n",
      " [[ 2.52403485e+04 -3.07450838e+04]\n",
      "  [-3.07450838e+04  1.47133492e+05]]]\n",
      "0\n",
      "[[ 700 1072]\n",
      " [ 476 2027]\n",
      " [ 494 1860]]\n",
      "[[[ 5.90086103e-01  4.92698102e-01]\n",
      "  [ 4.92698102e-01  4.11383048e-01]]\n",
      "\n",
      " [[ 3.35948020e+04 -1.01108812e+05]\n",
      "  [-1.01108812e+05  3.04481071e+05]]\n",
      "\n",
      " [[ 2.53717381e+04 -2.86001676e+04]\n",
      "  [-2.86001676e+04  1.41421124e+05]]]\n"
     ]
    },
    {
     "ename": "LinAlgError",
     "evalue": "Singular matrix",
     "output_type": "error",
     "traceback": [
      "\u001b[0;31m---------------------------------------------------------------------------\u001b[0m",
      "\u001b[0;31mLinAlgError\u001b[0m                               Traceback (most recent call last)",
      "\u001b[0;32m<ipython-input-46-2fb42002f974>\u001b[0m in \u001b[0;36m<module>\u001b[0;34m()\u001b[0m\n\u001b[1;32m    153\u001b[0m \u001b[0;34m\u001b[0m\u001b[0m\n\u001b[1;32m    154\u001b[0m     \u001b[0mll_ant\u001b[0m\u001b[0;34m=\u001b[0m\u001b[0mnp\u001b[0m\u001b[0;34m.\u001b[0m\u001b[0mcopy\u001b[0m\u001b[0;34m(\u001b[0m\u001b[0mll\u001b[0m\u001b[0;34m)\u001b[0m\u001b[0;34m\u001b[0m\u001b[0m\n\u001b[0;32m--> 155\u001b[0;31m     \u001b[0malpha\u001b[0m\u001b[0;34m,\u001b[0m\u001b[0mbeta\u001b[0m\u001b[0;34m,\u001b[0m\u001b[0mgamma\u001b[0m\u001b[0;34m,\u001b[0m\u001b[0mpsi\u001b[0m\u001b[0;34m,\u001b[0m\u001b[0mll\u001b[0m\u001b[0;34m=\u001b[0m\u001b[0malphabetagammapsill\u001b[0m\u001b[0;34m(\u001b[0m\u001b[0mX\u001b[0m\u001b[0;34m,\u001b[0m \u001b[0mmeans\u001b[0m\u001b[0;34m,\u001b[0m \u001b[0mvrs\u001b[0m\u001b[0;34m,\u001b[0m \u001b[0mtrans\u001b[0m\u001b[0;34m)\u001b[0m\u001b[0;34m\u001b[0m\u001b[0m\n\u001b[0m\u001b[1;32m    156\u001b[0m     \u001b[0mprint\u001b[0m\u001b[0;34m(\u001b[0m\u001b[0miteraciones\u001b[0m\u001b[0;34m)\u001b[0m\u001b[0;34m\u001b[0m\u001b[0m\n\u001b[1;32m    157\u001b[0m     \u001b[0miteraciones\u001b[0m\u001b[0;34m=\u001b[0m\u001b[0miteraciones\u001b[0m\u001b[0;34m+\u001b[0m\u001b[0;36m1\u001b[0m\u001b[0;34m\u001b[0m\u001b[0m\n",
      "\u001b[0;32m<ipython-input-46-2fb42002f974>\u001b[0m in \u001b[0;36malphabetagammapsill\u001b[0;34m(*args, **kwargs)\u001b[0m\n\u001b[1;32m     24\u001b[0m     \u001b[0mlogdetvars2\u001b[0m\u001b[0;34m=\u001b[0m\u001b[0mnp\u001b[0m\u001b[0;34m.\u001b[0m\u001b[0mzeros\u001b[0m\u001b[0;34m(\u001b[0m\u001b[0;34m(\u001b[0m\u001b[0mnumstates\u001b[0m\u001b[0;34m,\u001b[0m\u001b[0;36m1\u001b[0m\u001b[0;34m)\u001b[0m\u001b[0;34m)\u001b[0m\u001b[0;34m\u001b[0m\u001b[0m\n\u001b[1;32m     25\u001b[0m     \u001b[0;32mfor\u001b[0m \u001b[0mi\u001b[0m \u001b[0;32min\u001b[0m \u001b[0mI\u001b[0m\u001b[0;34m:\u001b[0m\u001b[0;34m\u001b[0m\u001b[0m\n\u001b[0;32m---> 26\u001b[0;31m         \u001b[0minvsigs\u001b[0m\u001b[0;34m[\u001b[0m\u001b[0mi\u001b[0m\u001b[0;34m]\u001b[0m\u001b[0;34m=\u001b[0m\u001b[0mnp\u001b[0m\u001b[0;34m.\u001b[0m\u001b[0mlinalg\u001b[0m\u001b[0;34m.\u001b[0m\u001b[0minv\u001b[0m\u001b[0;34m(\u001b[0m\u001b[0mvrs\u001b[0m\u001b[0;34m[\u001b[0m\u001b[0mi\u001b[0m\u001b[0;34m]\u001b[0m\u001b[0;34m)\u001b[0m\u001b[0;34m\u001b[0m\u001b[0m\n\u001b[0m\u001b[1;32m     27\u001b[0m         \u001b[0;32mif\u001b[0m \u001b[0mnp\u001b[0m\u001b[0;34m.\u001b[0m\u001b[0mlinalg\u001b[0m\u001b[0;34m.\u001b[0m\u001b[0mdet\u001b[0m\u001b[0;34m(\u001b[0m\u001b[0mvrs\u001b[0m\u001b[0;34m[\u001b[0m\u001b[0mi\u001b[0m\u001b[0;34m]\u001b[0m\u001b[0;34m)\u001b[0m\u001b[0;34m<\u001b[0m\u001b[0;36m0\u001b[0m\u001b[0;34m:\u001b[0m\u001b[0;34m\u001b[0m\u001b[0m\n\u001b[1;32m     28\u001b[0m             \u001b[0mprint\u001b[0m\u001b[0;34m(\u001b[0m\u001b[0;34m'determinante < 0'\u001b[0m\u001b[0;34m)\u001b[0m\u001b[0;34m\u001b[0m\u001b[0m\n",
      "\u001b[0;32m~/anaconda3/lib/python3.6/site-packages/numpy/linalg/linalg.py\u001b[0m in \u001b[0;36minv\u001b[0;34m(a)\u001b[0m\n\u001b[1;32m    526\u001b[0m     \u001b[0msignature\u001b[0m \u001b[0;34m=\u001b[0m \u001b[0;34m'D->D'\u001b[0m \u001b[0;32mif\u001b[0m \u001b[0misComplexType\u001b[0m\u001b[0;34m(\u001b[0m\u001b[0mt\u001b[0m\u001b[0;34m)\u001b[0m \u001b[0;32melse\u001b[0m \u001b[0;34m'd->d'\u001b[0m\u001b[0;34m\u001b[0m\u001b[0m\n\u001b[1;32m    527\u001b[0m     \u001b[0mextobj\u001b[0m \u001b[0;34m=\u001b[0m \u001b[0mget_linalg_error_extobj\u001b[0m\u001b[0;34m(\u001b[0m\u001b[0m_raise_linalgerror_singular\u001b[0m\u001b[0;34m)\u001b[0m\u001b[0;34m\u001b[0m\u001b[0m\n\u001b[0;32m--> 528\u001b[0;31m     \u001b[0mainv\u001b[0m \u001b[0;34m=\u001b[0m \u001b[0m_umath_linalg\u001b[0m\u001b[0;34m.\u001b[0m\u001b[0minv\u001b[0m\u001b[0;34m(\u001b[0m\u001b[0ma\u001b[0m\u001b[0;34m,\u001b[0m \u001b[0msignature\u001b[0m\u001b[0;34m=\u001b[0m\u001b[0msignature\u001b[0m\u001b[0;34m,\u001b[0m \u001b[0mextobj\u001b[0m\u001b[0;34m=\u001b[0m\u001b[0mextobj\u001b[0m\u001b[0;34m)\u001b[0m\u001b[0;34m\u001b[0m\u001b[0m\n\u001b[0m\u001b[1;32m    529\u001b[0m     \u001b[0;32mreturn\u001b[0m \u001b[0mwrap\u001b[0m\u001b[0;34m(\u001b[0m\u001b[0mainv\u001b[0m\u001b[0;34m.\u001b[0m\u001b[0mastype\u001b[0m\u001b[0;34m(\u001b[0m\u001b[0mresult_t\u001b[0m\u001b[0;34m,\u001b[0m \u001b[0mcopy\u001b[0m\u001b[0;34m=\u001b[0m\u001b[0;32mFalse\u001b[0m\u001b[0;34m)\u001b[0m\u001b[0;34m)\u001b[0m\u001b[0;34m\u001b[0m\u001b[0m\n\u001b[1;32m    530\u001b[0m \u001b[0;34m\u001b[0m\u001b[0m\n",
      "\u001b[0;32m~/anaconda3/lib/python3.6/site-packages/numpy/linalg/linalg.py\u001b[0m in \u001b[0;36m_raise_linalgerror_singular\u001b[0;34m(err, flag)\u001b[0m\n\u001b[1;32m     87\u001b[0m \u001b[0;34m\u001b[0m\u001b[0m\n\u001b[1;32m     88\u001b[0m \u001b[0;32mdef\u001b[0m \u001b[0m_raise_linalgerror_singular\u001b[0m\u001b[0;34m(\u001b[0m\u001b[0merr\u001b[0m\u001b[0;34m,\u001b[0m \u001b[0mflag\u001b[0m\u001b[0;34m)\u001b[0m\u001b[0;34m:\u001b[0m\u001b[0;34m\u001b[0m\u001b[0m\n\u001b[0;32m---> 89\u001b[0;31m     \u001b[0;32mraise\u001b[0m \u001b[0mLinAlgError\u001b[0m\u001b[0;34m(\u001b[0m\u001b[0;34m\"Singular matrix\"\u001b[0m\u001b[0;34m)\u001b[0m\u001b[0;34m\u001b[0m\u001b[0m\n\u001b[0m\u001b[1;32m     90\u001b[0m \u001b[0;34m\u001b[0m\u001b[0m\n\u001b[1;32m     91\u001b[0m \u001b[0;32mdef\u001b[0m \u001b[0m_raise_linalgerror_nonposdef\u001b[0m\u001b[0;34m(\u001b[0m\u001b[0merr\u001b[0m\u001b[0;34m,\u001b[0m \u001b[0mflag\u001b[0m\u001b[0;34m)\u001b[0m\u001b[0;34m:\u001b[0m\u001b[0;34m\u001b[0m\u001b[0m\n",
      "\u001b[0;31mLinAlgError\u001b[0m: Singular matrix"
     ]
    }
   ],
   "source": [
    "#funcion que calcula alpha beta gamma y psi\n",
    "def alphabetagammapsill(*args,**kwargs):\n",
    "    if len(args)==2:\n",
    "        x=args[0]\n",
    "        means=args[1].means\n",
    "        vrs=args[1].vrs\n",
    "        trans=args[1].trans\n",
    "    else:\n",
    "        x=args[0]\n",
    "        means=args[1]\n",
    "        vrs=args[2]\n",
    "        trans=args[3]\n",
    "    \n",
    "    trans[trans<1e-100]=1e-100\n",
    "    logtrans=np.log(trans)\n",
    "    \n",
    "    numstates=len(means)\n",
    "    [numpts,dim]=np.shape(x)\n",
    "    T=np.arange(1,numpts)\n",
    "    I=np.arange(numstates)\n",
    "    # matriz B\n",
    "    invsigs=np.zeros((numstates,dim,dim))\n",
    "    log2pi=np.log(2*np.pi)\n",
    "    logdetvars2=np.zeros((numstates,1))\n",
    "    for i in I:\n",
    "        invsigs[i]=np.linalg.inv(vrs[i])\n",
    "        if np.linalg.det(vrs[i])<0:\n",
    "            print('determinante < 0')\n",
    "        logdetvars2[i] = - 0.5 * np.log(np.linalg.det(vrs[i])) - log2pi\n",
    "        \n",
    "    B=np.zeros((numpts,numstates))\n",
    "    for t in np.arange(numpts):\n",
    "        for i in np.arange(numstates):\n",
    "            x_insesgado=x[t,:]-means[i].T\n",
    "            B[t,i]=- .5 * (np.dot(np.dot(x_insesgado,invsigs[i]),x_insesgado.T)) + logdetvars2[i]\n",
    "    \n",
    "    #alfa inicial\n",
    "    alpha=np.hstack((0,logtrans[0,I+1]))\n",
    "    alpha[I+1] = alpha[I+1] + B[0,:]\n",
    "    #alfas siguientes\n",
    "    alpha_t=np.copy(alpha)\n",
    "    for t in T:\n",
    "        alphabefore=np.copy(alpha_t)\n",
    "        alpha_t=0\n",
    "        for i in I:\n",
    "            alph=logsum(alphabefore[I+1] + logtrans[I+1,i+1]) + B[t,i]\n",
    "            alpha_t=np.hstack((alpha_t,alph))\n",
    "        alpha=np.hstack((alpha,alpha_t))\n",
    "    logprob =  logsum( alpha_t[I+1] + logtrans[I+1,numstates+1] )\n",
    "    alpha = alpha.reshape(numpts, numstates+1)\n",
    "        \n",
    "    #beta inicial\n",
    "    beta=np.hstack((0,logtrans[1:-1,-1]))\n",
    "    #betas siguientes\n",
    "    T=np.arange(0,numpts)\n",
    "    T=T[::-1]\n",
    "    beta_t=np.copy(beta)  \n",
    "    for t in T:\n",
    "        beta_before=np.copy(beta_t)\n",
    "        beta_t=0\n",
    "        for i in I:\n",
    "            bet=logsum(beta_before[I+1]+logtrans[I+1,i+1]+B[t,I])\n",
    "            beta_t=np.hstack((beta_t,bet))\n",
    "        beta=np.hstack((beta,beta_t))\n",
    "    beta=beta.reshape(numpts+1,numstates+1)\n",
    "    beta=beta[::-1,:]\n",
    "    \n",
    "    #probabilidad de la observacion\n",
    "    prob=0\n",
    "    for i in range(len(alpha)):\n",
    "        prob=np.hstack((prob,logsum(alpha[i,1:]+beta[i+1,1:])))\n",
    "        \n",
    "    #gamma\n",
    "    gamma=alpha+beta[1:,:]-np.hstack((np.zeros((len(prob)-1,1)),prob[1:,np.newaxis]*np.ones((1,3))))\n",
    "    \n",
    "    #psi\n",
    "    psi=np.zeros((3,3))\n",
    "    for t in np.arange(len(alpha)-1):\n",
    "        psi_t=np.zeros((3,3))\n",
    "        for i in range(3):\n",
    "            for j in range(3):\n",
    "                psi_t[i,j]=alpha[t,i+1]+beta[t+2,j+1]+logtrans[i+1,j+1]+B[t+1,j]\n",
    "        psi_t=psi_t-prob[t+1]\n",
    "        psi=np.dstack((psi,psi_t))\n",
    "    \n",
    "    return alpha,beta,gamma,psi,logprob\n",
    "\n",
    "data = np.load('./X_ST.npz')\n",
    "X = data['x'] # Muestras\n",
    "ST = data['y'] # Secuencia temporal\n",
    "#Inicialización\n",
    "numstates=3\n",
    "I=np.arange(numstates)\n",
    "[numpts,dim]=np.shape(X)\n",
    "means=np.sum(X,axis=0)/numpts\n",
    "means=np.dot(np.ones((numstates,1)),means[np.newaxis,:])\n",
    "means=np.array([[700, 1000],[200,2000],[500,1500]])\n",
    "print(means)\n",
    "sigma=np.dot(X.T,X)/numpts - np.dot(means[2,np.newaxis].T,means[2,np.newaxis])\n",
    "sigma=sigma\n",
    "vrs= np.stack((sigma,sigma,sigma))\n",
    "print(vrs)\n",
    "trans=np.array([[0, 1, 0, 0, 0],\n",
    "                [0, 1/2, 1/2, 0, 0],\n",
    "                [0, 0, 1/2, 1/2, 0],\n",
    "                [0, 0, 0, 1/2, 1/2],\n",
    "                [0, 0, 0, 0, 1]])\n",
    "\n",
    "alpha,beta,gamma,psi,ll=alphabetagammapsill(X, means, vrs, trans)\n",
    "ll_ant = ll - 1000\n",
    "iteraciones=0\n",
    "while iteraciones<3:\n",
    "    #normalizacion\n",
    "    norm=np.zeros((numstates,1))\n",
    "    for i in I:\n",
    "        norm[i]=logsum(gamma[:,i+1])\n",
    "        norm[i]=np.exp(norm[i])\n",
    "    #medias\n",
    "    for i in I:\n",
    "        # logaritmico\n",
    "        #aux = np.copy(X3)\n",
    "        #aux[aux<1e-100] = 1e-100\n",
    "        #aux = np.log(aux)\n",
    "        #aux = aux + np.dot( gamma[:,i+1,np.newaxis], np.ones((1,2)) )\n",
    "        #means[i,0] = np.exp(logsum(aux[:,0]) - norm[i])\n",
    "        #means[i,1] = np.exp(logsum(aux[:,1]) - norm[i])\n",
    "        # en valor absoluto\n",
    "        means[i] = np.dot(X.T,np.exp(gamma[:,i+1,np.newaxis])).T / norm[i]\n",
    "    print(means)\n",
    "    #varianzas\n",
    "    for i in I:\n",
    "        # logaritmico\n",
    "        #aux = X3-means[i]\n",
    "        #aux[aux<1e-100] = 1e-100\n",
    "        #aux = np.log(aux)\n",
    "        #aux2 = aux + np.dot(gamma[:,i+1,np.newaxis] , np.array([[1, 1]]))    \n",
    "        #a11 = logsum(aux2[:,0]+aux[:,0]) - norm[i]\n",
    "        #a22 = logsum(aux2[:,1]+aux[:,1]) - norm[i]\n",
    "        #a21 = logsum(aux2[:,1]+aux[:,0]) - norm[i]\n",
    "        #a12 = logsum(aux2[:,0]+aux[:,1]) - norm[i]\n",
    "        #vrs[i] = np.reshape(np.hstack((a11,a12,a21,a22)),(2,2))\n",
    "        #vrs[i] = np.exp(vrs[i])\n",
    "        # en valor absoluto\n",
    "        aux = np.dot(np.exp(gamma[:,i+1,np.newaxis]) , np.array([[1, 1]])) * (X-means[i])\n",
    "        vrs[i]= np.dot(aux.T, X-means[i]) / norm[i]\n",
    "    print(vrs)\n",
    "    #trans\n",
    "    for i in I:\n",
    "        for j in I:\n",
    "            trans[i+1,j+1]=logsum(psi[i,j,1:])-np.log(norm[i])\n",
    "    trans[1:4,1:4]=np.exp(trans[1:4,1:4])\n",
    "    \n",
    "    \n",
    "    ll_ant=np.copy(ll)\n",
    "    alpha,beta,gamma,psi,ll=alphabetagammapsill(X, means, vrs, trans)\n",
    "    print(iteraciones)\n",
    "    iteraciones=iteraciones+1\n",
    "    \n",
    "print(hmm6.means,'\\n',means,'\\n',trans[1:4,1:4],'\\n',hmm6.trans[1:4,1:4])\n",
    "\n",
    "\n"
   ]
  },
  {
   "cell_type": "code",
   "execution_count": 25,
   "metadata": {},
   "outputs": [
    {
     "data": {
      "text/plain": [
       "array([[ 730., 1090.],\n",
       "       [ 270., 2290.],\n",
       "       [ 530., 1840.]])"
      ]
     },
     "execution_count": 25,
     "metadata": {},
     "output_type": "execute_result"
    }
   ],
   "source": [
    "hmm6.means"
   ]
  },
  {
   "cell_type": "code",
   "execution_count": 36,
   "metadata": {},
   "outputs": [
    {
     "data": {
      "text/plain": [
       "array([[[ 1625.,  5300.],\n",
       "        [ 5300., 53300.]],\n",
       "\n",
       "       [[ 2525.,  1200.],\n",
       "        [ 1200., 36125.]],\n",
       "\n",
       "       [[15025.,  7750.],\n",
       "        [ 7750., 36725.]]])"
      ]
     },
     "execution_count": 36,
     "metadata": {},
     "output_type": "execute_result"
    }
   ],
   "source": [
    "hmm6.vrs"
   ]
  },
  {
   "cell_type": "code",
   "execution_count": 42,
   "metadata": {},
   "outputs": [
    {
     "data": {
      "text/plain": [
       "array([[ 271126.95114255,  888560.61035591],\n",
       "       [ 888560.61035591, 3626058.5022136 ]])"
      ]
     },
     "execution_count": 42,
     "metadata": {},
     "output_type": "execute_result"
    }
   ],
   "source": [
    "np.dot(X.T,X)/numpts"
   ]
  }
 ],
 "metadata": {
  "kernelspec": {
   "display_name": "Python 3",
   "language": "python",
   "name": "python3"
  },
  "language_info": {
   "codemirror_mode": {
    "name": "ipython",
    "version": 3
   },
   "file_extension": ".py",
   "mimetype": "text/x-python",
   "name": "python",
   "nbconvert_exporter": "python",
   "pygments_lexer": "ipython3",
   "version": "3.6.5"
  },
  "toc": {
   "base_numbering": 1,
   "nav_menu": {},
   "number_sections": true,
   "sideBar": true,
   "skip_h1_title": true,
   "title_cell": "Table of Contents",
   "title_sidebar": "Contents",
   "toc_cell": true,
   "toc_position": {},
   "toc_section_display": true,
   "toc_window_display": false
  }
 },
 "nbformat": 4,
 "nbformat_minor": 2
}
